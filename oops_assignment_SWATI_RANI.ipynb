{
  "nbformat": 4,
  "nbformat_minor": 0,
  "metadata": {
    "colab": {
      "provenance": []
    },
    "kernelspec": {
      "name": "python3",
      "display_name": "Python 3"
    },
    "language_info": {
      "name": "python"
    }
  },
  "cells": [
    {
      "cell_type": "markdown",
      "source": [
        " #1. **What are the five key concepts of Object-Oriented Programming (OOP)?**"
      ],
      "metadata": {
        "id": "5Ysm5JKePnO9"
      }
    },
    {
      "cell_type": "markdown",
      "source": [
        "Object-Oriented Programming or Java OOPs concept refers to languages that use objects in programming, they use objects as a primary source to implement what is to happen in the code. Objects are seen by the viewer or user, performing tasks you assign.\n",
        "\n",
        "Object-oriented programming aims to implement real-world entities like inheritance, hiding, polymorphism, etc. in programming. The main aim of OOPs is to bind together the data and the functions that operate on them so that no other part of the code can access this data except that function.\n"
      ],
      "metadata": {
        "id": "XzhOL21iPp62"
      }
    },
    {
      "cell_type": "markdown",
      "source": [
        "Classes and Objects:\n",
        "A class acts as a blueprint for creating objects, defining their attributes (data) and methods (functions). An object is an instance of a class, essentially a concrete realization of the class with specific values for its attributes.\n",
        "\n",
        "Encapsulation:\n",
        "This principle involves bundling data (attributes) and methods together within a class, restricting direct access to data and ensuring data integrity through controlled methods.\n",
        "\n",
        "Inheritance:\n",
        "Allows new classes to inherit properties and behaviors from existing classes (parent classes), promoting code reuse and creating hierarchical relationships.\n",
        "\n",
        "Polymorphism:\n",
        "Enables objects of different classes to be treated as objects of a common base class, allowing for flexible code that can work with various object types.\n",
        "\n",
        "Abstraction:\n",
        "Focuses on essential details of an object while hiding unnecessary complexity, presenting a simplified interface to interact with the object.\n"
      ],
      "metadata": {
        "id": "p6L2EsKrQRLz"
      }
    },
    {
      "cell_type": "markdown",
      "source": [
        "In Python object-oriented Programming (OOPs) is a programming paradigm that uses objects and classes in programming. It aims to implement real-world entities like inheritance, polymorphisms, encapsulation, etc. in the programming. The main concept of object-oriented Programming (OOPs) or oops concepts in Python is to bind the data and the functions that work together as a single unit so that no other part of the code can access this data."
      ],
      "metadata": {
        "id": "t4IOUSI-QmrN"
      }
    },
    {
      "cell_type": "markdown",
      "source": [
        "Python Class\n",
        "A class is a collection of objects. A class contains the blueprints or the prototype from which the objects are being created. It is a logical entity that contains some attributes and methods.\n",
        "\n",
        "To understand the need for creating a class let’s consider an example, let’s say you wanted to track the number of dogs that may have different attributes like breed, and age. If a list is used, the first element could be the dog’s breed while the second element could represent its age. Let’s suppose there are 100 different dogs, then how would you know which element is supposed to be which? What if you wanted to add other properties to these dogs? This lacks organization and it’s the exact need for classes.\n",
        "\n"
      ],
      "metadata": {
        "id": "TXxrCoONQ0TX"
      }
    },
    {
      "cell_type": "markdown",
      "source": [
        "**2. Write a Python class for a `Car` with attributes for `make`, `model`, and `year`. Include a method to display\n",
        "the car's information.**"
      ],
      "metadata": {
        "id": "Wem7ku_tRWfh"
      }
    },
    {
      "cell_type": "code",
      "source": [
        "class Car:\n",
        "    def __init__(self, make, model, year):\n",
        "        self.make = make\n",
        "        self.model = model\n",
        "        self.year = year\n",
        "\n",
        "    def display_info(self):\n",
        "        print(f\"Make: {self.make}, Model: {self.model}, Year: {self.year}\")\n",
        "\n",
        "\n",
        "my_car = Car(\"Toyota\", \"Camry\", 2020)\n",
        "my_car.display_info()"
      ],
      "metadata": {
        "colab": {
          "base_uri": "https://localhost:8080/"
        },
        "id": "S1n_RuEtRXej",
        "outputId": "f5285ae4-3f89-40c6-fb74-056f1797fa41"
      },
      "execution_count": 2,
      "outputs": [
        {
          "output_type": "stream",
          "name": "stdout",
          "text": [
            "Make: Toyota, Model: Camry, Year: 2020\n"
          ]
        }
      ]
    },
    {
      "cell_type": "code",
      "source": [
        "my_car.make"
      ],
      "metadata": {
        "colab": {
          "base_uri": "https://localhost:8080/",
          "height": 36
        },
        "id": "qOvGn7jtSEme",
        "outputId": "c63921a8-584d-4e21-e167-d65f48fdcec5"
      },
      "execution_count": 3,
      "outputs": [
        {
          "output_type": "execute_result",
          "data": {
            "text/plain": [
              "'Toyota'"
            ],
            "application/vnd.google.colaboratory.intrinsic+json": {
              "type": "string"
            }
          },
          "metadata": {},
          "execution_count": 3
        }
      ]
    },
    {
      "cell_type": "code",
      "source": [
        "my_car.model"
      ],
      "metadata": {
        "colab": {
          "base_uri": "https://localhost:8080/",
          "height": 36
        },
        "id": "1t3-jzTnPVC6",
        "outputId": "a2c4aa8f-1dc9-4e0e-9b4a-25d09c1baa5d"
      },
      "execution_count": 4,
      "outputs": [
        {
          "output_type": "execute_result",
          "data": {
            "text/plain": [
              "'Camry'"
            ],
            "application/vnd.google.colaboratory.intrinsic+json": {
              "type": "string"
            }
          },
          "metadata": {},
          "execution_count": 4
        }
      ]
    },
    {
      "cell_type": "code",
      "source": [
        "my_car.year"
      ],
      "metadata": {
        "colab": {
          "base_uri": "https://localhost:8080/"
        },
        "id": "doSnXa2jSKtd",
        "outputId": "88b12f36-dd55-49d5-a830-56985de0b5ab"
      },
      "execution_count": 5,
      "outputs": [
        {
          "output_type": "execute_result",
          "data": {
            "text/plain": [
              "2020"
            ]
          },
          "metadata": {},
          "execution_count": 5
        }
      ]
    },
    {
      "cell_type": "code",
      "source": [
        "my_car.display_info()"
      ],
      "metadata": {
        "colab": {
          "base_uri": "https://localhost:8080/"
        },
        "id": "OE6cD-WZSMFw",
        "outputId": "896f6da3-3cf7-4fb6-bac6-043178a8f7da"
      },
      "execution_count": 6,
      "outputs": [
        {
          "output_type": "stream",
          "name": "stdout",
          "text": [
            "Make: Toyota, Model: Camry, Year: 2020\n"
          ]
        }
      ]
    },
    {
      "cell_type": "markdown",
      "source": [
        "3. **Explain the difference between instance methods and class methods. Provide an example of each.**\n",
        "\n"
      ],
      "metadata": {
        "id": "ZaOsJr9pSU5D"
      }
    },
    {
      "cell_type": "markdown",
      "source": [
        "In object-oriented programming (OOP) an instance method refers to a method that's specific to an object rather than the entire class. It carries out a series of actions on the data or value provided by the object variable. When we utilize the instance variable within these methods, they are referred to as instance methods. These methods have the ability to modify the state of the object. To interact with an instance method, we use the \"self\" keyword as the parameter, which points to the object.\n",
        "\n",
        "Example 1\n",
        "Code\n",
        "\n",
        "Python\n",
        "class Student:\n",
        "    # constructor\n",
        "    def __init__(self, name, subject, percentage):\n",
        "\n",
        "        # Instance variables\n",
        "        self.name = name\n",
        "        self.subject = subject\n",
        "        self.percentage = percentage\n",
        "\n",
        "    # instance method to access instance variables\n",
        "    def display(self):\n",
        "        print(f'Name: {self.name}\\nSubject: {self.subject}\\nPercentage: {self.percentage}')\n",
        "\n",
        "\n",
        "\n",
        "\n"
      ],
      "metadata": {
        "id": "p42YrE0GSQcf"
      }
    },
    {
      "cell_type": "code",
      "source": [
        "class Student:\n",
        "    # constructor\n",
        "    def __init__(self, name, subject, percentage):\n",
        "\n",
        "        # Instance variables\n",
        "        self.name = name\n",
        "        self.subject = subject\n",
        "        self.percentage = percentage\n",
        "\n",
        "    # instance method to access instance variables\n",
        "    def display(self):\n",
        "        print(f'Name: {self.name}\\nSubject: {self.subject}\\nPercentage: {self.percentage}')\n",
        "\n",
        "# Create an instance of the Student class\n",
        "obj = Student('Justin', 'Science', 85.5)\n",
        "obj.display()\n"
      ],
      "metadata": {
        "colab": {
          "base_uri": "https://localhost:8080/"
        },
        "id": "j_RIT0GMS7h1",
        "outputId": "6665aac1-f4f7-4db3-92da-d53f910cc6cf"
      },
      "execution_count": 22,
      "outputs": [
        {
          "output_type": "stream",
          "name": "stdout",
          "text": [
            "Name: Justin\n",
            "Subject: Science\n",
            "Percentage: 85.5\n"
          ]
        }
      ]
    },
    {
      "cell_type": "code",
      "source": [
        "obj.name"
      ],
      "metadata": {
        "colab": {
          "base_uri": "https://localhost:8080/",
          "height": 36
        },
        "id": "0cVoUDSBTmIG",
        "outputId": "4c0a0f1c-2233-44ce-f3ed-4454f5db8352"
      },
      "execution_count": 23,
      "outputs": [
        {
          "output_type": "execute_result",
          "data": {
            "text/plain": [
              "'Justin'"
            ],
            "application/vnd.google.colaboratory.intrinsic+json": {
              "type": "string"
            }
          },
          "metadata": {},
          "execution_count": 23
        }
      ]
    },
    {
      "cell_type": "code",
      "source": [
        "obj.subject"
      ],
      "metadata": {
        "colab": {
          "base_uri": "https://localhost:8080/",
          "height": 36
        },
        "id": "6igOJPUnUjAQ",
        "outputId": "00fbf7e0-5fbd-4dc9-d1c8-f594b21ec45a"
      },
      "execution_count": 24,
      "outputs": [
        {
          "output_type": "execute_result",
          "data": {
            "text/plain": [
              "'Science'"
            ],
            "application/vnd.google.colaboratory.intrinsic+json": {
              "type": "string"
            }
          },
          "metadata": {},
          "execution_count": 24
        }
      ]
    },
    {
      "cell_type": "markdown",
      "source": [
        "The class method is the method that is specific to the class instead of specific to the Instance. It can change the class state, which means it can modify class configuration globally. Class methods can only access the class variable. This method is used to create the factory method.\n",
        "\n",
        "The syntax of Class methods is different; rather than taking self parameter, they accept cls as a parameter that points to the class. It cannot change the instance state. However, the changes made by the class method affect all instances of the class. The classmethod() or @classmethod decorator defines the class methods."
      ],
      "metadata": {
        "id": "BKrjcHhIUsLI"
      }
    },
    {
      "cell_type": "code",
      "source": [
        "class Student:\n",
        "    # class variable\n",
        "    Fee = 75000\n",
        "\n",
        "    def __init__(self, name, department):\n",
        "        # Instance variable\n",
        "        self.name = name\n",
        "        self.department = department\n",
        "    # instance method to access instance variable\n",
        "\n",
        "    def show(self):\n",
        "        print(f'Name: {self.name} Department: {self.department} Fee: {Student.Fee}')\n",
        "    def show1(self):\n",
        "        print(f'Name: {self.name} Department: {self.department} Updated Fee: {Student.get_updated_fee()}')\n",
        "\n",
        "    @classmethod\n",
        "    def Updated_fee(cls, fee):\n",
        "        cls.Fee = fee\n",
        "\n",
        "    @classmethod\n",
        "    def get_updated_fee(cls):\n",
        "        return cls.Fee\n",
        "obj = Student('Justin', 'CS')\n",
        "obj.show()\n",
        "\n",
        "Student.Updated_fee(85000)\n",
        "obj.show1()"
      ],
      "metadata": {
        "colab": {
          "base_uri": "https://localhost:8080/"
        },
        "id": "Iln712z8Uk5-",
        "outputId": "cd3185d1-ff75-4068-e053-3a84ecb3dbec"
      },
      "execution_count": 25,
      "outputs": [
        {
          "output_type": "stream",
          "name": "stdout",
          "text": [
            "Name: Justin Department: CS Fee: 75000\n",
            "Name: Justin Department: CS Updated Fee: 85000\n"
          ]
        }
      ]
    },
    {
      "cell_type": "markdown",
      "source": [
        "**4. How does Python implement method overloading? Give an example.**"
      ],
      "metadata": {
        "id": "-lKc16H6U8FK"
      }
    },
    {
      "cell_type": "markdown",
      "source": [
        "Python doesn't support traditional method overloading like some other languages (e.g., Java, C++). In those languages, you can have multiple methods with the same name but different parameters within the same class.\n",
        "However, Python achieves similar functionality through:\n",
        "1. Default Arguments:\n",
        "You can define a single method with default values for some parameters. This allows you to call the method with different combinations of arguments.\n",
        "Python\n",
        "\n",
        "\n",
        "Execution output\n",
        "class MyClass:\n",
        "    def greet(self, name=\"World\"):\n",
        "        print(\"Hello,\", name)\n",
        "\n",
        "obj = MyClass()\n",
        "obj.greet()\n",
        "obj.greet(\"Alice\")\n",
        "Hello, World\n",
        "Hello, Alice\n",
        "2. Variable-Length Arguments (\\*args and \\*\\*kwargs):\n",
        "You can use *args to accept an arbitrary number of positional arguments and **kwargs to accept an arbitrary number of keyword arguments. This gives you flexibility in the number and types of arguments you can pass to a method.\n",
        "Python\n",
        "\n",
        "\n",
        "class MyClass:\n",
        "    def add(self, *args):\n",
        "        result = 0\n",
        "        for num in args:\n",
        "            result += num\n",
        "        return result\n",
        "\n",
        "obj = MyClass()\n",
        "obj.add(1, 2)     # Output: 3\n",
        "obj.add(1, 2, 3)  # Output: 6\n",
        "Example simulating method overloading:\n",
        "Python\n",
        "\n",
        "\n",
        "Execution output\n",
        "class Calculator:\n",
        "    def add(self, x, y, z=0):\n",
        "        if z == 0:\n",
        "            return x + y\n",
        "        else:\n",
        "            return x + y + z\n",
        "\n",
        "calc = Calculator()\n",
        "print(calc.add(2, 3))\n",
        "print(calc.add(2, 3, 4))\n",
        "5\n",
        "9\n",
        "In essence, Python doesn't truly \"overload\" methods, but it provides mechanisms to achieve similar behavior and flexibility."
      ],
      "metadata": {
        "id": "KlwgW-CGU_KU"
      }
    },
    {
      "cell_type": "code",
      "source": [
        "class MyClass:\n",
        "    def greet(self, name=\"World\"):\n",
        "        print(\"Hello,\", name)\n",
        "\n",
        "obj = MyClass()\n",
        "obj.greet()\n",
        "obj.greet(\"Alice\")"
      ],
      "metadata": {
        "colab": {
          "base_uri": "https://localhost:8080/"
        },
        "id": "Unn8iVqRU7Wo",
        "outputId": "c43a401d-3193-4f56-bf04-ceb268911fad"
      },
      "execution_count": 26,
      "outputs": [
        {
          "output_type": "stream",
          "name": "stdout",
          "text": [
            "Hello, World\n",
            "Hello, Alice\n"
          ]
        }
      ]
    },
    {
      "cell_type": "code",
      "source": [
        "class MyClass:\n",
        "    def add(self, *args):\n",
        "        result = 0\n",
        "        for num in args:\n",
        "            result += num\n",
        "        return result\n",
        "\n",
        "obj = MyClass()\n",
        "obj.add(1, 2)     # Output: 3\n",
        "obj.add(1, 2, 3)  # Output: 6"
      ],
      "metadata": {
        "colab": {
          "base_uri": "https://localhost:8080/"
        },
        "id": "vQAAns_5UyDK",
        "outputId": "44319ec5-c66d-416b-e02b-b1dd9a471ed7"
      },
      "execution_count": 27,
      "outputs": [
        {
          "output_type": "execute_result",
          "data": {
            "text/plain": [
              "6"
            ]
          },
          "metadata": {},
          "execution_count": 27
        }
      ]
    },
    {
      "cell_type": "code",
      "source": [
        "class Calculator:\n",
        "    def add(self, x, y, z=0):\n",
        "        if z == 0:\n",
        "            return x + y\n",
        "        else:\n",
        "            return x + y + z\n",
        "\n",
        "calc = Calculator()\n",
        "print(calc.add(2, 3))\n",
        "print(calc.add(2, 3, 4))"
      ],
      "metadata": {
        "colab": {
          "base_uri": "https://localhost:8080/"
        },
        "id": "d8QRQnzyVWSj",
        "outputId": "a170edf6-c7ca-4461-b992-16011b347bcf"
      },
      "execution_count": 28,
      "outputs": [
        {
          "output_type": "stream",
          "name": "stdout",
          "text": [
            "5\n",
            "9\n"
          ]
        }
      ]
    },
    {
      "cell_type": "markdown",
      "source": [
        "**5. What are the three types of access modifiers in Python? How are they denoted?**"
      ],
      "metadata": {
        "id": "_4Txln3bVh93"
      }
    },
    {
      "cell_type": "markdown",
      "source": [
        "Python has three types of access modifiers:\n",
        "1. Public: Public members are accessible from anywhere in the program. By default, all members in Python are public.\n",
        "2. Protected: Protected members are accessible within the class and its subclasses. They are denoted by a single underscore (_) prefix.\n",
        "3. Private: Private members are accessible only within the class. They are denoted by a double underscore (__) prefix."
      ],
      "metadata": {
        "id": "Yi06KS-IVsrB"
      }
    },
    {
      "cell_type": "code",
      "source": [
        "class MyClass:\n",
        "    def __init__(self):\n",
        "        self.public_var = 10  # Public variable\n",
        "        self._protected_var = 20  # Protected variable\n",
        "        self.__private_var = 30  # Private variable\n",
        "\n",
        "    def public_method(self):\n",
        "        print(\"Public method\")\n",
        "\n",
        "    def _protected_method(self):\n",
        "        print(\"Protected method\")\n",
        "\n",
        "    def __private_method(self):\n",
        "        print(\"Private method\")"
      ],
      "metadata": {
        "id": "-fHIwd0HVaNw"
      },
      "execution_count": 29,
      "outputs": []
    },
    {
      "cell_type": "code",
      "source": [
        "public_obj = MyClass()\n",
        "public_obj.public_method()"
      ],
      "metadata": {
        "colab": {
          "base_uri": "https://localhost:8080/"
        },
        "id": "NAEw9EC_Vwjh",
        "outputId": "e314fe1e-2f65-4fb3-ea19-f6a1a4d6386f"
      },
      "execution_count": 32,
      "outputs": [
        {
          "output_type": "stream",
          "name": "stdout",
          "text": [
            "Public method\n"
          ]
        }
      ]
    },
    {
      "cell_type": "code",
      "source": [
        "public_obj.public_var"
      ],
      "metadata": {
        "colab": {
          "base_uri": "https://localhost:8080/"
        },
        "id": "X8niNS73V0Eh",
        "outputId": "753f7842-8906-442e-f033-86a121b26713"
      },
      "execution_count": 33,
      "outputs": [
        {
          "output_type": "execute_result",
          "data": {
            "text/plain": [
              "10"
            ]
          },
          "metadata": {},
          "execution_count": 33
        }
      ]
    },
    {
      "cell_type": "code",
      "source": [
        "public_obj._protected_method()"
      ],
      "metadata": {
        "colab": {
          "base_uri": "https://localhost:8080/"
        },
        "id": "mqFt2OksV_cS",
        "outputId": "0c4ef4b3-8f4a-452f-e942-19a27ebd00ce"
      },
      "execution_count": 34,
      "outputs": [
        {
          "output_type": "stream",
          "name": "stdout",
          "text": [
            "Protected method\n"
          ]
        }
      ]
    },
    {
      "cell_type": "code",
      "source": [
        "class MyClass:\n",
        "    def __init__(self):\n",
        "        self.my_public_attribute = \"I am a public attribute\"\n",
        "\n",
        "    def my_public_method(self):\n",
        "        print(\"I am a public method\")\n",
        "\n",
        "# Accessing public members\n",
        "obj = MyClass()\n",
        "print(obj.my_public_attribute)\n",
        "obj.my_public_method()\n",
        "\n"
      ],
      "metadata": {
        "colab": {
          "base_uri": "https://localhost:8080/"
        },
        "id": "042seRv5WBSD",
        "outputId": "8591f618-bab3-4448-a06a-f423263c4bcc"
      },
      "execution_count": 35,
      "outputs": [
        {
          "output_type": "stream",
          "name": "stdout",
          "text": [
            "I am a public attribute\n",
            "I am a public method\n"
          ]
        }
      ]
    },
    {
      "cell_type": "code",
      "source": [
        "class Rectangle:\n",
        "    def __init__(self, length, width):\n",
        "        self.length = length\n",
        "        self.width = width\n",
        "\n",
        "    def calculate_area(self):\n",
        "        return self.length * self.width\n",
        "\n",
        "\n",
        "rectangle = Rectangle(5, 3)\n",
        "area = rectangle.calculate_area()"
      ],
      "metadata": {
        "id": "5KbKdH1_WJoB"
      },
      "execution_count": 39,
      "outputs": []
    },
    {
      "cell_type": "code",
      "source": [
        "area"
      ],
      "metadata": {
        "colab": {
          "base_uri": "https://localhost:8080/"
        },
        "id": "1CiBm2ZiWN-t",
        "outputId": "e149afb6-4ab8-4978-da9d-4729b20405c7"
      },
      "execution_count": 40,
      "outputs": [
        {
          "output_type": "execute_result",
          "data": {
            "text/plain": [
              "15"
            ]
          },
          "metadata": {},
          "execution_count": 40
        }
      ]
    },
    {
      "cell_type": "markdown",
      "source": [
        "**6. Describe the five types of inheritance in Python. Provide a simple example of multiple inheritance**"
      ],
      "metadata": {
        "id": "y-R-ZxBCWh7K"
      }
    },
    {
      "cell_type": "markdown",
      "source": [
        "Python supports five types of inheritance:\n",
        "1. Single Inheritance: A class inherits from only one parent class."
      ],
      "metadata": {
        "id": "tc1xwsGNWvjs"
      }
    },
    {
      "cell_type": "code",
      "source": [
        "class Animal:\n",
        "    def speak(self):\n",
        "        print(\"Animal speaks\")\n",
        "\n",
        "class Dog(Animal):\n",
        "    def bark(self):\n",
        "        print(\"Dog barks\")"
      ],
      "metadata": {
        "id": "xiSw37UXWqjD"
      },
      "execution_count": 42,
      "outputs": []
    },
    {
      "cell_type": "code",
      "source": [
        "dog = Dog()\n",
        "dog.speak()\n",
        "dog.bark()"
      ],
      "metadata": {
        "colab": {
          "base_uri": "https://localhost:8080/"
        },
        "id": "Cn5IhKBRW1tU",
        "outputId": "267db46f-c98a-4b5a-a896-5608648516e5"
      },
      "execution_count": 45,
      "outputs": [
        {
          "output_type": "stream",
          "name": "stdout",
          "text": [
            "Animal speaks\n",
            "Dog barks\n"
          ]
        }
      ]
    },
    {
      "cell_type": "code",
      "source": [
        "class Flyer:\n",
        "    def fly(self):\n",
        "        print(\"Flying\")\n",
        "\n",
        "class Swimmer:\n",
        "    def swim(self):\n",
        "        print(\"Swimming\")\n",
        "\n",
        "class Duck(Flyer, Swimmer):\n",
        "    pass"
      ],
      "metadata": {
        "id": "cf7UWmlNW4No"
      },
      "execution_count": 46,
      "outputs": []
    },
    {
      "cell_type": "code",
      "source": [
        "Fly = Duck()\n",
        "Fly.fly()\n",
        "Fly.swim()"
      ],
      "metadata": {
        "colab": {
          "base_uri": "https://localhost:8080/"
        },
        "id": "lPs_FJNkXBt2",
        "outputId": "813d26ce-ff47-4db4-eb10-8a59ce379309"
      },
      "execution_count": 47,
      "outputs": [
        {
          "output_type": "stream",
          "name": "stdout",
          "text": [
            "Flying\n",
            "Swimming\n"
          ]
        }
      ]
    },
    {
      "cell_type": "code",
      "source": [
        "class Animal:\n",
        "    def speak(self):\n",
        "        print(\"Animal speaks\")\n",
        "\n",
        "class Mammal(Animal):\n",
        "    def walk(self):\n",
        "        print(\"Mammal walks\")\n",
        "\n",
        "class Dog(Mammal):\n",
        "    def bark(self):\n",
        "        print(\"Dog barks\")"
      ],
      "metadata": {
        "id": "Rr-5iz7sXIST"
      },
      "execution_count": 48,
      "outputs": []
    },
    {
      "cell_type": "code",
      "source": [
        "dog = Dog()\n",
        "dog.speak()\n",
        "dog.walk()\n",
        "dog.bark()"
      ],
      "metadata": {
        "colab": {
          "base_uri": "https://localhost:8080/"
        },
        "id": "-CBES6EUXMox",
        "outputId": "e6d9adec-17de-4062-a03f-29f78c9cb911"
      },
      "execution_count": 49,
      "outputs": [
        {
          "output_type": "stream",
          "name": "stdout",
          "text": [
            "Animal speaks\n",
            "Mammal walks\n",
            "Dog barks\n"
          ]
        }
      ]
    },
    {
      "cell_type": "code",
      "source": [
        "class Animal:\n",
        "    def speak(self):\n",
        "        print(\"Animal speaks\")\n",
        "\n",
        "class Cat(Animal):\n",
        "    def meow(self):\n",
        "        print(\"Cat meows\")\n",
        "\n",
        "class Dog(Animal):\n",
        "    def bark(self):\n",
        "        print(\"Dog barks\")"
      ],
      "metadata": {
        "id": "sNUaVjMnXOsP"
      },
      "execution_count": 50,
      "outputs": []
    },
    {
      "cell_type": "code",
      "source": [
        "dog = Dog()\n",
        "dog.speak()\n",
        "dog.bark()"
      ],
      "metadata": {
        "colab": {
          "base_uri": "https://localhost:8080/"
        },
        "id": "a8Qalr4sXTkx",
        "outputId": "725983c4-6941-4d1b-fd57-b29965cbf6dd"
      },
      "execution_count": 51,
      "outputs": [
        {
          "output_type": "stream",
          "name": "stdout",
          "text": [
            "Animal speaks\n",
            "Dog barks\n"
          ]
        }
      ]
    },
    {
      "cell_type": "code",
      "source": [
        "cat = Cat()\n",
        "cat.speak()\n",
        "cat.meow()"
      ],
      "metadata": {
        "colab": {
          "base_uri": "https://localhost:8080/"
        },
        "id": "3p4mClwuXVay",
        "outputId": "03a7e584-27c1-409d-e4b2-14da9274b066"
      },
      "execution_count": 52,
      "outputs": [
        {
          "output_type": "stream",
          "name": "stdout",
          "text": [
            "Animal speaks\n",
            "Cat meows\n"
          ]
        }
      ]
    },
    {
      "cell_type": "code",
      "source": [
        "class A:\n",
        "    def method_a(self):\n",
        "        print(\"Method A\")\n",
        "\n",
        "class B(A):\n",
        "    def method_b(self):\n",
        "        print(\"Method B\")\n",
        "\n",
        "class C(A):\n",
        "    def method_c(self):\n",
        "        print(\"Method C\")\n",
        "\n",
        "class D(B, C):\n",
        "    pass"
      ],
      "metadata": {
        "id": "IkHSUGpBXZm4"
      },
      "execution_count": 53,
      "outputs": []
    },
    {
      "cell_type": "code",
      "source": [
        "method_d = D()\n",
        "method_d.method_a()\n",
        "method_d.method_b()\n",
        "method_d.method_c()"
      ],
      "metadata": {
        "colab": {
          "base_uri": "https://localhost:8080/"
        },
        "id": "WMo_4HoOXdTE",
        "outputId": "e0a8c8af-d695-4a29-c270-dbdf15942716"
      },
      "execution_count": 54,
      "outputs": [
        {
          "output_type": "stream",
          "name": "stdout",
          "text": [
            "Method A\n",
            "Method B\n",
            "Method C\n"
          ]
        }
      ]
    },
    {
      "cell_type": "markdown",
      "source": [
        "**7. What is the Method Resolution Order (MRO) in Python? How can you retrieve it programmatically?**"
      ],
      "metadata": {
        "id": "GpNZAuRQXoZY"
      }
    },
    {
      "cell_type": "markdown",
      "source": [
        "In Python, the Method Resolution Order (MRO) is the order in which Python looks for a method in a hierarchy of classes, especially when dealing with multiple inheritance.\n",
        "How MRO works:\n",
        "Python uses the C3 linearization algorithm to determine the MRO.\n",
        "The MRO ensures that a class's methods are searched in a consistent and predictable order, prioritizing the child class and then moving up the inheritance hierarchy.\n",
        "Retrieving MRO programmatically:\n",
        "You can access the MRO of a class in two ways: using the __mro__ attribute."
      ],
      "metadata": {
        "id": "zWY-pR6QXyBV"
      }
    },
    {
      "cell_type": "code",
      "source": [
        "class A:\n",
        "       pass\n",
        "\n",
        "   class B(A):\n",
        "       pass\n",
        "\n",
        "   class C(B):\n",
        "       pass\n",
        "\n",
        "   print(C.__mro__)"
      ],
      "metadata": {
        "colab": {
          "base_uri": "https://localhost:8080/",
          "height": 106
        },
        "id": "1hdUKj9MXxsW",
        "outputId": "fd086c44-49e1-475a-f15b-d3b0e1fc9b8d"
      },
      "execution_count": 59,
      "outputs": [
        {
          "output_type": "error",
          "ename": "IndentationError",
          "evalue": "unindent does not match any outer indentation level (<tokenize>, line 4)",
          "traceback": [
            "\u001b[0;36m  File \u001b[0;32m\"<tokenize>\"\u001b[0;36m, line \u001b[0;32m4\u001b[0m\n\u001b[0;31m    class B(A):\u001b[0m\n\u001b[0m    ^\u001b[0m\n\u001b[0;31mIndentationError\u001b[0m\u001b[0;31m:\u001b[0m unindent does not match any outer indentation level\n"
          ]
        }
      ]
    },
    {
      "cell_type": "code",
      "source": [
        "print(C.mro())"
      ],
      "metadata": {
        "colab": {
          "base_uri": "https://localhost:8080/"
        },
        "id": "gVS0uEwMXjAM",
        "outputId": "362f8bce-489e-42cf-e4c5-67cbd97543b3"
      },
      "execution_count": 57,
      "outputs": [
        {
          "output_type": "stream",
          "name": "stdout",
          "text": [
            "[<class '__main__.C'>, <class '__main__.A'>, <class 'object'>]\n"
          ]
        }
      ]
    },
    {
      "cell_type": "code",
      "source": [
        "8. Create an abstract base class `Shape` with an abstract method `area()`. Then create two subclasses\n",
        "`Circle` and `Rectangle` that implement the `area()` method."
      ],
      "metadata": {
        "colab": {
          "base_uri": "https://localhost:8080/",
          "height": 106
        },
        "id": "bqInRCUbX7kJ",
        "outputId": "f5286cbe-bcd9-48ff-ad60-36c737373cc0"
      },
      "execution_count": 60,
      "outputs": [
        {
          "output_type": "error",
          "ename": "SyntaxError",
          "evalue": "invalid syntax (<ipython-input-60-28bdf3c811e4>, line 1)",
          "traceback": [
            "\u001b[0;36m  File \u001b[0;32m\"<ipython-input-60-28bdf3c811e4>\"\u001b[0;36m, line \u001b[0;32m1\u001b[0m\n\u001b[0;31m    8. Create an abstract base class `Shape` with an abstract method `area()`. Then create two subclasses\u001b[0m\n\u001b[0m       ^\u001b[0m\n\u001b[0;31mSyntaxError\u001b[0m\u001b[0;31m:\u001b[0m invalid syntax\n"
          ]
        }
      ]
    },
    {
      "cell_type": "code",
      "source": [
        "class Shape:\n",
        "    def area(self):\n",
        "        pass"
      ],
      "metadata": {
        "id": "ORzo2eGIYD0Q"
      },
      "execution_count": 61,
      "outputs": []
    },
    {
      "cell_type": "code",
      "source": [
        "area"
      ],
      "metadata": {
        "colab": {
          "base_uri": "https://localhost:8080/"
        },
        "id": "G3PnREzkYHYZ",
        "outputId": "6bedbf90-a334-414e-a841-ce1d2c3c23fe"
      },
      "execution_count": 62,
      "outputs": [
        {
          "output_type": "execute_result",
          "data": {
            "text/plain": [
              "15"
            ]
          },
          "metadata": {},
          "execution_count": 62
        }
      ]
    },
    {
      "cell_type": "code",
      "source": [
        "class Circle(Shape):\n",
        "    def __init__(self, radius):\n",
        "        self.radius = radius\n",
        "\n",
        "    def area(self):\n",
        "        return 3.14 * self.radius * self.radius"
      ],
      "metadata": {
        "id": "BpJMnc-vYI7Q"
      },
      "execution_count": 63,
      "outputs": []
    },
    {
      "cell_type": "code",
      "source": [
        "area"
      ],
      "metadata": {
        "colab": {
          "base_uri": "https://localhost:8080/"
        },
        "id": "eVHEUOqNYNIG",
        "outputId": "48438f56-b92c-408b-b56e-d364f791284e"
      },
      "execution_count": 64,
      "outputs": [
        {
          "output_type": "execute_result",
          "data": {
            "text/plain": [
              "15"
            ]
          },
          "metadata": {},
          "execution_count": 64
        }
      ]
    },
    {
      "cell_type": "code",
      "source": [
        "class Rectangle(Shape):\n",
        "    def __init__(self, length, width):\n",
        "        self.length = length\n",
        "        self.width = width\n",
        "\n",
        "    def area(self):\n",
        "        return self.length * self.width"
      ],
      "metadata": {
        "id": "elbBY8oaYOHg"
      },
      "execution_count": 65,
      "outputs": []
    },
    {
      "cell_type": "code",
      "source": [
        "area"
      ],
      "metadata": {
        "colab": {
          "base_uri": "https://localhost:8080/"
        },
        "id": "QwssMhGIYQ8o",
        "outputId": "e9ad72ac-c947-4f3f-bbb5-ae26f717060a"
      },
      "execution_count": 66,
      "outputs": [
        {
          "output_type": "execute_result",
          "data": {
            "text/plain": [
              "15"
            ]
          },
          "metadata": {},
          "execution_count": 66
        }
      ]
    },
    {
      "cell_type": "markdown",
      "source": [
        "**9. Demonstrate polymorphism by creating a function that can work with different shape objects to calculate\n",
        "and print their areas.**"
      ],
      "metadata": {
        "id": "sBVqox15YYPO"
      }
    },
    {
      "cell_type": "code",
      "source": [
        "class Shape:\n",
        "    def calculate_area(self):\n",
        "        raise NotImplementedError(\"Subclasses must implement calculate_area\")\n",
        "\n",
        "class Circle(Shape):\n",
        "    def __init__(self, radius):\n",
        "        self.radius = radius\n",
        "\n",
        "    def calculate_area(self):\n",
        "        return 3.14 * self.radius**2\n",
        "\n",
        "class Rectangle(Shape):\n",
        "    def __init__(self, length, width):\n",
        "        self.length = length\n",
        "        self.width = width\n",
        "\n",
        "    def calculate_area(self):\n",
        "        return self.length * self.width\n",
        "\n",
        "def print_shape_area(shape):\n",
        "    area = shape.calculate_area()\n",
        "    print(f\"Area of {type(shape).__name__}: {area}\")\n",
        "\n",
        "# Example usage:\n",
        "circle = Circle(5)\n",
        "rectangle = Rectangle(3, 4)\n",
        "\n",
        "print_shape_area(circle)"
      ],
      "metadata": {
        "colab": {
          "base_uri": "https://localhost:8080/"
        },
        "id": "XeqGOqf0YRgi",
        "outputId": "28a71fbc-4e39-451a-b03a-78018ab0ecc4"
      },
      "execution_count": 67,
      "outputs": [
        {
          "output_type": "stream",
          "name": "stdout",
          "text": [
            "Area of Circle: 78.5\n"
          ]
        }
      ]
    },
    {
      "cell_type": "markdown",
      "source": [
        "\n",
        "Explanation:\n",
        "Base Class (Shape):\n",
        "The Shape class acts as a base class with an abstract method calculate_area that forces all derived classes to implement their own area calculation logic.\n",
        "Derived Classes (Circle, Rectangle):\n",
        "Each specific shape is represented by a class that inherits from Shape and overrides the calculate_area method to provide the correct area calculation for that shape.\n",
        "print_shape_area Function:\n",
        "This function takes a Shape object as input and uses the calculate_area method on that object, regardless of its actual type (Circle or Rectangle), demonstrating polymorphism.\n",
        "Key points about polymorphism in this example:\n",
        "Single Interface:\n",
        "The print_shape_area function only needs to interact with the calculate_area method of the Shape class, allowing it to work with any derived shape object.\n",
        "Dynamic Dispatch:\n",
        "At runtime, the correct calculate_area implementation is called based on the actual type of the object passed to the function.\n",
        "Flexibility:\n",
        "This approach allows you to add new shapes to your code without modifying existing functions that use the Shape interface.\n",
        "How to use:\n",
        "Create objects of different shapes (e.g., circle = Circle(5), rectangle = Rectangle(3, 4)).\n",
        "Pass these objects to the print_shape_area function to calculate and print their areas."
      ],
      "metadata": {
        "id": "m4NXdui4YtDS"
      }
    },
    {
      "cell_type": "markdown",
      "source": [
        "**10. Implement encapsulation in a `BankAccount` class with private attributes for `balance` and\n",
        "`account_number`. Include methods for deposit, withdrawal, and balance inquiry.**"
      ],
      "metadata": {
        "id": "gvNgT4WmY5Cx"
      }
    },
    {
      "cell_type": "code",
      "source": [
        "class Bank_Account:\n",
        "    def __init__(self):\n",
        "        self.balance=0\n",
        "        print(\"Hello!!! Welcome to the Deposit & Withdrawal Machine\")\n",
        "\n",
        "    def deposit(self):\n",
        "        amount=float(input(\"Enter amount to be Deposited: \"))\n",
        "        self.balance += amount\n",
        "        print(\"\\n Amount Deposited:\",amount)\n",
        "\n",
        "    def withdraw(self):\n",
        "        amount = float(input(\"Enter amount to be Withdrawn: \"))\n",
        "        if self.balance>=amount:\n",
        "            self.balance-=amount\n",
        "            print(\"\\n You Withdrew:\", amount)\n",
        "        else:\n",
        "            print(\"\\n Insufficient balance  \")\n",
        "\n",
        "    def display(self):\n",
        "        print(\"\\n Net Available Balance=\",self.balance)\n",
        ""
      ],
      "metadata": {
        "id": "M8lDOpzAY4YE"
      },
      "execution_count": 68,
      "outputs": []
    },
    {
      "cell_type": "code",
      "source": [
        "s = Bank_Account()\n",
        "\n",
        "\n",
        "s.deposit()\n",
        "s.withdraw()\n",
        "s.display()"
      ],
      "metadata": {
        "colab": {
          "base_uri": "https://localhost:8080/"
        },
        "id": "kX47ITG_Ysut",
        "outputId": "8de7bb53-c629-4598-dce7-2b9a4a736d59"
      },
      "execution_count": 69,
      "outputs": [
        {
          "output_type": "stream",
          "name": "stdout",
          "text": [
            "Hello!!! Welcome to the Deposit & Withdrawal Machine\n",
            "Enter amount to be Deposited: 1000\n",
            "\n",
            " Amount Deposited: 1000.0\n",
            "Enter amount to be Withdrawn: 500\n",
            "\n",
            " You Withdrew: 500.0\n",
            "\n",
            " Net Available Balance= 500.0\n"
          ]
        }
      ]
    },
    {
      "cell_type": "markdown",
      "source": [
        "**11. Write a class that overrides the `__str__` and `__add__` magic methods. What will these methods allow\n",
        "you to do?**"
      ],
      "metadata": {
        "id": "8epyrnQKZsk9"
      }
    },
    {
      "cell_type": "markdown",
      "source": [
        "The __str__() method returns a human-readable, or informal, string representation of an object. This method is called by the built-in print(), str(), and format() functions. If you don’t define a __str__() method for a class, then the built-in object implementation calls the __repr__() method instead.\n",
        "\n",
        "The __repr__() method returns a more information-rich, or official, string representation of an object. This method is called by the built-in repr() function. If possible, the string returned should be a valid Python expression that can be used to recreate the object. In all cases, the string should be informative and unambiguous.\n",
        "\n",
        "In general, the __str__() string is intended for users and the __repr__() string is intended for developers."
      ],
      "metadata": {
        "id": "-8sxuP8GabuK"
      }
    },
    {
      "cell_type": "code",
      "source": [
        "import datetime\n",
        "\n",
        "mydate = datetime.datetime.now()\n",
        "\n",
        "print(\"__str__() string: \", mydate.__str__())\n",
        "print(\"str() string: \", str(mydate))\n",
        "\n",
        "print(\"__repr__() string: \", mydate.__repr__())\n",
        "print(\"repr() string: \", repr(mydate))"
      ],
      "metadata": {
        "colab": {
          "base_uri": "https://localhost:8080/"
        },
        "id": "8uo6ERYtYkK7",
        "outputId": "da8afb26-9b6c-4407-9d81-c49f8845bba0"
      },
      "execution_count": 70,
      "outputs": [
        {
          "output_type": "stream",
          "name": "stdout",
          "text": [
            "__str__() string:  2024-09-15 06:42:16.718505\n",
            "str() string:  2024-09-15 06:42:16.718505\n",
            "__repr__() string:  datetime.datetime(2024, 9, 15, 6, 42, 16, 718505)\n",
            "repr() string:  datetime.datetime(2024, 9, 15, 6, 42, 16, 718505)\n"
          ]
        }
      ]
    },
    {
      "cell_type": "code",
      "source": [
        "import datetime\n",
        "\n",
        "mydate1 = datetime.datetime.now()\n",
        "mydate2 = eval(repr(mydate1))\n",
        "\n",
        "print(\"mydate1 repr() string: \", repr(mydate1))\n",
        "print(\"mydate2 repr() string: \", repr(mydate2))\n",
        "\n",
        "print(\"the values of the objects are equal: \", mydate1==mydate2)\n"
      ],
      "metadata": {
        "colab": {
          "base_uri": "https://localhost:8080/"
        },
        "id": "j1Y8czmcaiKC",
        "outputId": "b99b822a-874d-411b-edfd-f844668afc48"
      },
      "execution_count": 71,
      "outputs": [
        {
          "output_type": "stream",
          "name": "stdout",
          "text": [
            "mydate1 repr() string:  datetime.datetime(2024, 9, 15, 6, 42, 42, 550304)\n",
            "mydate2 repr() string:  datetime.datetime(2024, 9, 15, 6, 42, 42, 550304)\n",
            "the values of the objects are equal:  True\n"
          ]
        }
      ]
    },
    {
      "cell_type": "code",
      "source": [
        "class Ocean:\n",
        "\n",
        "    def __init__(self, sea_creature_name, sea_creature_age):\n",
        "        self.name = sea_creature_name\n",
        "        self.age = sea_creature_age\n",
        "\n",
        "c = Ocean('Jellyfish', 5)\n",
        "\n",
        "print(str(c))\n",
        "print(repr(c))"
      ],
      "metadata": {
        "colab": {
          "base_uri": "https://localhost:8080/"
        },
        "id": "0bmBQe1maoek",
        "outputId": "c93dd1ec-d604-4a6e-b698-ef10f6f8781b"
      },
      "execution_count": 72,
      "outputs": [
        {
          "output_type": "stream",
          "name": "stdout",
          "text": [
            "<__main__.Ocean object at 0x7ee34568fa60>\n",
            "<__main__.Ocean object at 0x7ee34568fa60>\n"
          ]
        }
      ]
    },
    {
      "cell_type": "code",
      "source": [
        "class Ocean:\n",
        "\n",
        "    def __init__(self, sea_creature_name, sea_creature_age):\n",
        "        self.name = sea_creature_name\n",
        "        self.age = sea_creature_age\n",
        "\n",
        "    def __str__(self):\n",
        "        return f'The creature type is {self.name} and the age is {self.age}'\n",
        "\n",
        "    def __repr__(self):\n",
        "        return f'Ocean(\\'{self.name}\\', {self.age})'\n",
        "\n",
        "c = Ocean('Jellyfish', 5)\n",
        "\n",
        "print(str(c))\n"
      ],
      "metadata": {
        "colab": {
          "base_uri": "https://localhost:8080/"
        },
        "id": "EKjWC0MQavs-",
        "outputId": "256b9442-bddd-413e-82f6-1b190cd23fb3"
      },
      "execution_count": 73,
      "outputs": [
        {
          "output_type": "stream",
          "name": "stdout",
          "text": [
            "The creature type is Jellyfish and the age is 5\n"
          ]
        }
      ]
    },
    {
      "cell_type": "markdown",
      "source": [
        "**12. Create a decorator that measures and prints the execution time of a function.**"
      ],
      "metadata": {
        "id": "U-aaD3oba6wI"
      }
    },
    {
      "cell_type": "code",
      "source": [
        "import time\n",
        "\n",
        "def timeit(func):\n",
        "    def wrapper(*args, **kwargs):\n",
        "        start_time = time.time()\n",
        "        result = func(*args, **kwargs)\n",
        "        end_time = time.time()\n",
        "        print(f\"Function {func.__name__} took {end_time - start_time} seconds to execute.\")\n",
        "        return result\n",
        "    return wrapper\n",
        "\n",
        "@timeit\n",
        "def slow_function():\n",
        "    time.sleep(2)\n",
        "\n",
        "slow_function()"
      ],
      "metadata": {
        "colab": {
          "base_uri": "https://localhost:8080/"
        },
        "id": "1g0bez9ha07b",
        "outputId": "888d779f-67e3-4f6b-8d8d-0dfcb8b282a5"
      },
      "execution_count": 74,
      "outputs": [
        {
          "output_type": "stream",
          "name": "stdout",
          "text": [
            "Function slow_function took 2.0076706409454346 seconds to execute.\n"
          ]
        }
      ]
    },
    {
      "cell_type": "markdown",
      "source": [
        "Explanation:\n",
        "Import time: This module is used to measure time.\n",
        "Define the decorator timeit:\n",
        "It takes a function func as an argument.\n",
        "It defines an inner function wrapper that:\n",
        "Records the start time.\n",
        "Calls the original function func with its arguments.\n",
        "Records the end time.\n",
        "Calculates the execution time and prints it.\n",
        "Returns the result of the original function.\n",
        "The wrapper function is returned by the decorator.\n",
        "Apply the decorator: The @timeit syntax decorates the slow_function with the timeit decorator.\n",
        "Call the function: When you call slow_function, the wrapper function is executed, measuring and printing the execution time.\n",
        "Mastering Python Decorators: A Comprehensive Guide\n",
        "In conclusion, mastering Python decorators requires a solid understanding of the syntax, uses, and best practices associated with ...\n",
        "\n",
        "programminginpython.com\n",
        "\n"
      ],
      "metadata": {
        "id": "HhIo5RxRbPIM"
      }
    },
    {
      "cell_type": "markdown",
      "source": [
        "**13. Explain the concept of the Diamond Problem in multiple inheritance. How does Python resolve it?**"
      ],
      "metadata": {
        "id": "RbC1-o1Bbops"
      }
    },
    {
      "cell_type": "markdown",
      "source": [
        "The Diamond Problem in multiple inheritance occurs when a class inherits from two or more classes that have a common ancestor, leading to ambiguity in method and attribute resolution.\n"
      ],
      "metadata": {
        "id": "Q_JTotS-bxI3"
      }
    },
    {
      "cell_type": "code",
      "source": [
        "class A:\n",
        "    def method(self):\n",
        "        print(\"A's method\")\n",
        "\n",
        "class B(A):\n",
        "    def method(self):\n",
        "        print(\"B's method\")\n",
        "\n",
        "class C(A):\n",
        "    def method(self):\n",
        "        print(\"C's method\")\n",
        "\n",
        "class D(B, C):\n",
        "    pass\n",
        "\n",
        "d = D()\n",
        "d.method()"
      ],
      "metadata": {
        "colab": {
          "base_uri": "https://localhost:8080/"
        },
        "id": "ts0plPgXbwF4",
        "outputId": "08633492-bc87-41f1-d83f-d48f9f114a33"
      },
      "execution_count": 76,
      "outputs": [
        {
          "output_type": "stream",
          "name": "stdout",
          "text": [
            "B's method\n"
          ]
        }
      ]
    },
    {
      "cell_type": "markdown",
      "source": [
        "In this example, D inherits from both B and C, which both inherit from A. When d.method() is called, Python needs to decide which method to execute: B's or C's.\n",
        "Python resolves the Diamond Problem using the Method Resolution Order (MRO).\n",
        "MRO is a linearization of the inheritance graph, which defines the order in which Python searches for a method or attribute in a class's hierarchy.\n",
        "Python uses the C3 linearization algorithm to calculate the MRO.\n",
        "The algorithm ensures that a class always comes before its superclasses in the MRO, and that the order of superclasses in a class's __bases__ tuple is preserved."
      ],
      "metadata": {
        "id": "ZmZEbj1Cb9Bh"
      }
    },
    {
      "cell_type": "markdown",
      "source": [
        "**14. Write a class method that keeps track of the number of instances created from a class**"
      ],
      "metadata": {
        "id": "KK0I7tE0cGYs"
      }
    },
    {
      "cell_type": "code",
      "source": [
        "class MyClass:\n",
        "    instance_count = 0  # Class attribute to store count\n",
        "\n",
        "    def __init__(self):\n",
        "        MyClass.instance_count += 1  # Increment count on each new instance\n",
        "\n",
        "    @classmethod\n",
        "    def get_instance_count(cls):\n",
        "        return cls.instance_count  # Access count using class method"
      ],
      "metadata": {
        "id": "x_5vu7pGb8r4"
      },
      "execution_count": 78,
      "outputs": []
    },
    {
      "cell_type": "markdown",
      "source": [
        "Explanation:\n",
        "Class attribute:\n",
        "The instance_count is a class attribute, meaning it is shared across all instances of the MyClass. This is where we store the count of created objects.\n",
        "Constructor (__init__):\n",
        "When a new MyClass object is created, the __init__ method is called automatically.\n",
        "Inside the constructor, MyClass.instance_count += 1 increments the count by 1 for each new instance.\n",
        "Class method (get_instance_count):\n",
        "This method is accessible using the class name (e.g., MyClass.get_instance_count()).\n",
        "It simply returns the current value of instance_count, allowing you to retrieve the total number of instances created."
      ],
      "metadata": {
        "id": "3L9-Tgw1ccFN"
      }
    },
    {
      "cell_type": "code",
      "source": [
        "obj1 = MyClass()\n",
        "obj2 = MyClass()\n",
        "obj3 = MyClass()\n",
        "\n",
        "print(MyClass.get_instance_count())"
      ],
      "metadata": {
        "colab": {
          "base_uri": "https://localhost:8080/"
        },
        "id": "L5VaBZzTcQ4N",
        "outputId": "c88abd0f-9782-448e-cd8f-16a16ec59267"
      },
      "execution_count": 81,
      "outputs": [
        {
          "output_type": "stream",
          "name": "stdout",
          "text": [
            "3\n"
          ]
        }
      ]
    },
    {
      "cell_type": "markdown",
      "source": [
        "**15. Implement a static method in a class that checks if a given year is a leap year.**"
      ],
      "metadata": {
        "id": "2JeTl46Lclyz"
      }
    },
    {
      "cell_type": "code",
      "source": [
        "class LeapYearChecker:\n",
        "    @staticmethod\n",
        "    def is_leap_year(year):\n",
        "        if year % 4 == 0:\n",
        "            if year % 100 == 0:\n",
        "                if year % 400 == 0:\n",
        "                    return True\n",
        "                else:\n",
        "                    return False\n",
        "            else:\n",
        "                return True\n",
        "        else:\n",
        "            return False\n",
        "\n",
        "print(LeapYearChecker.is_leap_year(2000))\n",
        "print(LeapYearChecker.is_leap_year(2023))\n",
        "print(LeapYearChecker.is_leap_year(2024))"
      ],
      "metadata": {
        "colab": {
          "base_uri": "https://localhost:8080/"
        },
        "id": "4996afX_cs06",
        "outputId": "4de34f8b-7461-48ef-dc4c-db281eb98ade"
      },
      "execution_count": 83,
      "outputs": [
        {
          "output_type": "stream",
          "name": "stdout",
          "text": [
            "True\n",
            "False\n",
            "True\n"
          ]
        }
      ]
    },
    {
      "cell_type": "code",
      "source": [],
      "metadata": {
        "id": "brEhcMhlc2wh"
      },
      "execution_count": null,
      "outputs": []
    }
  ]
}